{
 "cells": [
  {
   "cell_type": "markdown",
   "metadata": {},
   "source": [
    "# Logistic Regression of Selected Features from IEEE Data"
   ]
  },
  {
   "cell_type": "markdown",
   "metadata": {},
   "source": [
    "### Load the Dataset"
   ]
  },
  {
   "cell_type": "code",
   "execution_count": 5,
   "metadata": {},
   "outputs": [],
   "source": [
    "import statsmodels.api as sm\n",
    "import pandas as pd\n",
    "\n",
    "# load the train_selected_features.csv\n",
    "folder_path = \"./data/\"\n",
    "train_selected_features = pd.read_csv(f\"{folder_path}train_selected_features.csv\")"
   ]
  },
  {
   "cell_type": "markdown",
   "metadata": {},
   "source": [
    "### Turn categorical variables into dummies"
   ]
  },
  {
   "cell_type": "code",
   "execution_count": 6,
   "metadata": {},
   "outputs": [],
   "source": [
    "data = train_selected_features\n",
    "# Convert categorical variables into dummy variables\n",
    "categorical_cols = [\n",
    "    \"Card_Bank_Issuer\",\n",
    "    \"Card_Bank_Type\",\n",
    "    \"billing_region\",\n",
    "    \"card_product_type\",\n",
    "]\n",
    "\n",
    "data = pd.get_dummies(data, columns=categorical_cols, drop_first=True)"
   ]
  },
  {
   "cell_type": "code",
   "execution_count": 7,
   "metadata": {},
   "outputs": [],
   "source": [
    "### Define Predictor Variables and Independent or Outcome variable\n",
    "# Define predictors (independent variables) and the target (dependent variable)\n",
    "\n",
    "X = data[\n",
    "    [\n",
    "        \"Amount\",\n",
    "        \"Count_number_transactions_last24\",\n",
    "        \"avg_daily_tx_card_lastmonth\",\n",
    "        \"Count_names_associated_card\",\n",
    "        \"hour\",\n",
    "        \"Count_Number_Devices_associated\",\n",
    "        \"dayofweek\",\n",
    "        \"Count_number_transactions_lasthour\",\n",
    "        \"Count_other_cards_associated\",\n",
    "        \"Count_products_associated_card\",\n",
    "    ]\n",
    "]\n",
    "\n",
    "y = data[\"isFraud\"]"
   ]
  },
  {
   "cell_type": "markdown",
   "metadata": {},
   "source": [
    "# Viewing/Interpreting Results "
   ]
  },
  {
   "cell_type": "code",
   "execution_count": 8,
   "metadata": {},
   "outputs": [
    {
     "name": "stdout",
     "output_type": "stream",
     "text": [
      "Optimization terminated successfully.\n",
      "         Current function value: 0.144656\n",
      "         Iterations 10\n",
      "                           Logit Regression Results                           \n",
      "==============================================================================\n",
      "Dep. Variable:                isFraud   No. Observations:               590540\n",
      "Model:                          Logit   Df Residuals:                   590529\n",
      "Method:                           MLE   Df Model:                           10\n",
      "Date:                Wed, 04 Dec 2024   Pseudo R-squ.:                 0.04632\n",
      "Time:                        21:44:18   Log-Likelihood:                -85425.\n",
      "converged:                       True   LL-Null:                       -89574.\n",
      "Covariance Type:            nonrobust   LLR p-value:                     0.000\n",
      "======================================================================================================\n",
      "                                         coef    std err          z      P>|z|      [0.025      0.975]\n",
      "------------------------------------------------------------------------------------------------------\n",
      "const                                 -3.1106      0.018   -169.368      0.000      -3.147      -3.075\n",
      "Amount                                 0.0002   2.51e-05      7.523      0.000       0.000       0.000\n",
      "Count_number_transactions_last24       0.0007      0.000      1.516      0.129      -0.000       0.002\n",
      "avg_daily_tx_card_lastmonth           -0.1444      0.004    -39.668      0.000      -0.152      -0.137\n",
      "Count_names_associated_card            0.0109      0.001      8.999      0.000       0.009       0.013\n",
      "hour                                  -0.0103      0.001    -11.001      0.000      -0.012      -0.008\n",
      "Count_Number_Devices_associated       -0.0013      0.001     -1.773      0.076      -0.003       0.000\n",
      "dayofweek                             -0.0039      0.004     -1.106      0.269      -0.011       0.003\n",
      "Count_number_transactions_lasthour    -0.0493      0.001    -46.016      0.000      -0.051      -0.047\n",
      "Count_other_cards_associated           0.0193      0.002     12.874      0.000       0.016       0.022\n",
      "Count_products_associated_card         0.0881      0.003     29.516      0.000       0.082       0.094\n",
      "======================================================================================================\n"
     ]
    }
   ],
   "source": [
    "# Add a constant (intercept) to the predictors\n",
    "X = sm.add_constant(X)\n",
    "\n",
    "# Fit the logistic regression model\n",
    "model = sm.Logit(y, X).fit()\n",
    "\n",
    "# View the model summary\n",
    "print(model.summary())"
   ]
  },
  {
   "cell_type": "markdown",
   "metadata": {},
   "source": [
    "## Interpretations \n",
    "\n",
    "Based on the results of this model we found that :\n",
    "\n",
    "> ### Key Insights for Each Predictor\n",
    "\n",
    "\n",
    "The logistic regression model provides insights into the factors influencing credit card fraud. The baseline log-odds of fraud, represented by the intercept, confirm that fraudulent transactions are rare events. Significant predictors include transaction amount, with higher amounts slightly increasing the likelihood of fraud, and average daily transactions in the last month, which reduce the likelihood, suggesting frequent activity signals legitimate usage. Similarly, high transaction activity in the last hour is associated with reduced fraud risk. In contrast, factors like the number of names or products associated with a card and the number of other linked cards increase the likelihood of fraud, potentially indicating unusual account behaviors. Timing also plays a role, as transactions later in the day show a marginal decrease in fraud likelihood. However, other predictors such as the number of transactions in the last 24 hours, the number of devices associated with the card, and the day of the week are not significant contributors to fraud detection. Overall, the model identifies patterns that help distinguish legitimate behavior from potentially fraudulent activities, offering actionable insights for targeted monitoring and intervention."
   ]
  }
 ],
 "metadata": {
  "kernelspec": {
   "display_name": "base",
   "language": "python",
   "name": "python3"
  },
  "language_info": {
   "codemirror_mode": {
    "name": "ipython",
    "version": 3
   },
   "file_extension": ".py",
   "mimetype": "text/x-python",
   "name": "python",
   "nbconvert_exporter": "python",
   "pygments_lexer": "ipython3",
   "version": "3.12.3"
  }
 },
 "nbformat": 4,
 "nbformat_minor": 2
}
